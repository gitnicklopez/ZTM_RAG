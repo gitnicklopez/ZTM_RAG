{
  "nbformat": 4,
  "nbformat_minor": 0,
  "metadata": {
    "colab": {
      "provenance": [],
      "include_colab_link": true
    },
    "kernelspec": {
      "name": "python3",
      "display_name": "Python 3"
    },
    "language_info": {
      "name": "python"
    }
  },
  "cells": [
    {
      "cell_type": "markdown",
      "metadata": {
        "id": "view-in-github",
        "colab_type": "text"
      },
      "source": [
        "<a href=\"https://colab.research.google.com/github/gitnicklopez/ZTM_RAG/blob/main/Basics_of_Retrieval_Systems.ipynb\" target=\"_parent\"><img src=\"https://colab.research.google.com/assets/colab-badge.svg\" alt=\"Open In Colab\"/></a>"
      ]
    },
    {
      "cell_type": "markdown",
      "source": [
        "# Libraries and Data"
      ],
      "metadata": {
        "id": "vj4TmlLuXV54"
      }
    },
    {
      "cell_type": "code",
      "source": [
        "# Sample documents about sailing in Croatia\n",
        "documents = ['Sailing in Croatia often includes visiting UNESCO World Heritage sites.',\n",
        " 'The Makarska Riviera is known for its stunning coastline and sailing opportunities.',\n",
        " 'Sailing in Croatia offers stunning views of the Adriatic Sea.',\n",
        " \"The city of Sibenik is home to the impressive St. James's Cathedral, a UNESCO World Heritage site.\",\n",
        " 'The island of Brač is known for its beautiful beaches and great sailing conditions.',\n",
        " 'Sailing to the island of Rab, known for its medieval old town, is a great experience.',\n",
        " 'The Pakleni Islands near Hvar are a popular spot for sailing yachts.',\n",
        " 'The island of Cres is one of the largest in Croatia and a great destination for sailing.',\n",
        " 'The island of Cres is one of the largest in Croatia and has a diverse wildlife.',\n",
        " 'The city of Zagreb is the capital of Croatia and offers a mix of modern and historic attractions.',\n",
        " 'Sailors can experience the traditional Dalmatian way of life in many coastal villages.',\n",
        " 'The city of Knin is known for its historic fortress and beautiful scenery.',\n",
        " 'The island of Krk is the largest island in the Adriatic Sea.',\n",
        " 'Croatia has a rich history dating back to the Roman Empire.',\n",
        " 'The island of Hvar is a popular destination for celebrities and high-end travelers.',\n",
        " 'The city of Varazdin is known for its baroque buildings and vibrant cultural scene.',\n",
        " 'Sailors can enjoy fresh seafood at many coastal restaurants in Croatia.',\n",
        " 'The coastal town of Senj is known for its carnival and Nehaj Fortress.',\n",
        " 'The Dalmatian Coast is a famous region for sailing in Croatia.',\n",
        " \"The Diocletian's Palace in Split is one of the most famous Roman ruins in Croatia.\",\n",
        " 'The island of Dugi Otok is known for its dramatic cliffs and beautiful sailing waters.',\n",
        " 'The island of Rab is famous for its medieval old town and stunning beaches.',\n",
        " 'The island of Mljet is home to a national park and is ideal for nature lovers.',\n",
        " 'Sailors in Croatia can visit ancient Roman ruins in Split.',\n",
        " 'The city of Kotor, just across the border in Montenegro, is a popular extension for Croatian sailing trips.',\n",
        " 'The island of Korcula is believed to be the birthplace of Marco Polo.',\n",
        " 'The town of Motovun in Istria is famous for its film festival.',\n",
        " 'The city of Nin is known for its ancient salt pans and historic church.',\n",
        " 'The city of Vukovar is known for its role in the Croatian War of Independence.',\n",
        " 'Sailing to the island of Lošinj, known for its health tourism, is a relaxing experience.',\n",
        " 'The island of Hvar is known for its vibrant nightlife and sailing opportunities.',\n",
        " 'The island of Korčula is believed to be the birthplace of Marco Polo and is a popular sailing destination.',\n",
        " 'Sailing in Croatia often involves stopping at picturesque fishing villages.',\n",
        " 'The city of Opatija is known for its grand villas and seaside promenade.',\n",
        " 'The city of Porec is known for the Euphrasian Basilica, a UNESCO World Heritage site.',\n",
        " 'The island of Brac is home to the famous Zlatni Rat beach, known for its changing shape.',\n",
        " 'Sailing around the island of Mljet offers a peaceful and scenic experience.',\n",
        " 'The Blue Cave on Biševo Island is a must-see for sailors.',\n",
        " 'The island of Pag is famous for its cheese and nightlife, and is a fun stop for sailors.',\n",
        " \"The island of Lastovo is one of Croatia's most remote and tranquil destinations.\",\n",
        " 'Sailors can enjoy snorkeling in the clear waters of the Adriatic Sea.',\n",
        " 'The city of Rovinj is a charming starting point for a sailing trip in Croatia.',\n",
        " \"Croatia's national parks, like Krka and Plitvice, are ideal for hiking and nature lovers.\",\n",
        " 'The city of Zadar is famous for its sunsets, which sailors can enjoy from the sea.',\n",
        " 'Croatia has over a thousand islands, each with its unique charm.',\n",
        " \"Croatia's Adriatic coast is dotted with charming fishing villages.\",\n",
        " 'Sailing to the island of Šolta offers a quiet escape from the more touristy areas.',\n",
        " 'Sailors in Croatia can explore over 1,200 islands.',\n",
        " 'Sailing in Croatia provides opportunities to visit ancient fortresses and castles along the coast.',\n",
        " 'Croatia is famous for its beautiful coastline and crystal-clear waters.',\n",
        " 'The island of Krk is accessible by bridge and is a popular starting point for sailing trips.',\n",
        " 'Sailing in Croatia is best enjoyed during the summer months.',\n",
        " 'The island of Pag is famous for its cheese, which is considered a delicacy.',\n",
        " 'The medieval town of Rovinj is one of the most picturesque places in Croatia.',\n",
        " 'The island of Losinj is famous for its health tourism and clean air.',\n",
        " 'The city of Dubrovnik, with its famous city walls, is a top destination for sailors.',\n",
        " 'Croatia has beautiful islands perfect for sailing.',\n",
        " 'Sailing in Croatia allows you to explore hidden coves and bays.',\n",
        " 'The city of Rijeka is an important cultural and economic center in Croatia.',\n",
        " 'The island of Mljet has a national park that is perfect for exploring by sailboat.',\n",
        " 'The Istrian Peninsula is famous for its truffles and gourmet food.',\n",
        " 'The town of Cavtat is a quieter alternative to nearby Dubrovnik.',\n",
        " 'The Peljesac Peninsula is known for its vineyards and wine production.',\n",
        " 'The Dubrovnik Summer Festival is a major cultural event featuring theater, music, and dance performances.',\n",
        " 'The city of Zadar is famous for its unique Sea Organ, an architectural sound art object.',\n",
        " 'The beaches in Croatia are among the best in Europe, with many receiving Blue Flag status.',\n",
        " 'Sailing around the island of Murter gives access to the Kornati Islands National Park.',\n",
        " 'The city of Trogir, with its historic architecture, is a great place to dock.',\n",
        " 'Sailing from Split to Dubrovnik offers breathtaking coastal scenery.',\n",
        " 'The Plitvice Lakes National Park is a UNESCO World Heritage site known for its stunning waterfalls and lakes.',\n",
        " 'The city of Hvar is one of the sunniest places in Europe and a popular sailing hub.',\n",
        " \"The city of Dubrovnik is often called the 'Pearl of the Adriatic'.\",\n",
        " 'The city of Osijek is located in the eastern part of Croatia and is known for its Baroque style.',\n",
        " 'The city of Pula, with its Roman amphitheater, is a unique sailing destination.',\n",
        " 'The town of Trogir is a UNESCO World Heritage site known for its medieval architecture.',\n",
        " 'Sailors in Croatia can enjoy local wines at many coastal vineyards.',\n",
        " 'Croatia has a Mediterranean climate, making it a great destination year-round.',\n",
        " 'Croatia has a diverse cultural heritage, with influences from Italy, Hungary, and Austria.',\n",
        " 'The city of Rijeka is an important cultural and historical sailing destination.',\n",
        " 'The best sailing routes in Croatia include Dubrovnik and Split.',\n",
        " 'The Brijuni Islands are a national park and a former presidential retreat.',\n",
        " 'Sailing to the Elaphiti Islands offers a mix of natural beauty and cultural sites.',\n",
        " 'Croatia is known for its delicious seafood cuisine.',\n",
        " 'The ancient city of Pula is known for its well-preserved Roman amphitheater.',\n",
        " 'The city of Opatija is a historical seaside resort that welcomes sailors.',\n",
        " 'The waters around Croatia are known for being calm and clear, ideal for sailing.',\n",
        " 'The Kornati Islands National Park is a popular sailing destination in Croatia.',\n",
        " \"Sailing around the Brijuni Islands offers a glimpse of Croatia's natural beauty and wildlife.\",\n",
        " 'The island of Vis was a military base and was closed to tourism until the 1990s.',\n",
        " 'The city of Split is a major port and gateway to the Dalmatian islands.',\n",
        " 'Sailing to the island of Vis provides access to the famous Blue Cave.',\n",
        " \"The city of Buzet in Istria is known as the 'City of Truffles'.\",\n",
        " 'The city of Karlovac is known for its parks and the rivers that flow through it.',\n",
        " 'Sailing to the island of Vis allows you to experience a more remote part of Croatia.',\n",
        " 'The city of Šibenik is a UNESCO World Heritage site and a great stop for sailors.',\n",
        " \"The town of Samobor is famous for its traditional cream cake called 'kremsnita'.\",\n",
        " 'Sailing around the island of Lastovo provides a more secluded experience.',\n",
        " \"Croatia's wine regions produce some excellent wines, especially in Istria and Dalmatia.\",\n",
        " 'Many sailors start their Croatian adventure from the city of Zadar.',\n",
        " 'The coastal town of Makarska is known for its beautiful beaches and lively nightlife.']"
      ],
      "metadata": {
        "id": "TrA2UFP-XkKy"
      },
      "execution_count": 7,
      "outputs": []
    },
    {
      "cell_type": "code",
      "source": [
        "# Import libraries\n",
        "import nltk\n",
        "from sklearn.feature_extraction.text import TfidfVectorizer\n",
        "from sklearn.metrics.pairwise import cosine_similarity\n",
        "import numpy as np"
      ],
      "metadata": {
        "id": "kCFNSzwDUWTT"
      },
      "execution_count": 8,
      "outputs": []
    },
    {
      "cell_type": "code",
      "source": [
        "# Download some models from nltk\n",
        "nltk.download('punkt')\n",
        "nltk.download('punkt_tab')\n",
        "nltk.download('stopwords')"
      ],
      "metadata": {
        "id": "8xZU9iiAUh1-",
        "colab": {
          "base_uri": "https://localhost:8080/"
        },
        "outputId": "abd8ff19-28ff-41ae-d406-bd7fe53b1d5e"
      },
      "execution_count": 9,
      "outputs": [
        {
          "output_type": "stream",
          "name": "stderr",
          "text": [
            "[nltk_data] Downloading package punkt to /root/nltk_data...\n",
            "[nltk_data]   Unzipping tokenizers/punkt.zip.\n",
            "[nltk_data] Downloading package punkt_tab to /root/nltk_data...\n",
            "[nltk_data]   Unzipping tokenizers/punkt_tab.zip.\n",
            "[nltk_data] Downloading package stopwords to /root/nltk_data...\n",
            "[nltk_data]   Unzipping corpora/stopwords.zip.\n"
          ]
        },
        {
          "output_type": "execute_result",
          "data": {
            "text/plain": [
              "True"
            ]
          },
          "metadata": {},
          "execution_count": 9
        }
      ]
    },
    {
      "cell_type": "code",
      "source": [
        "# Sample text\n",
        "text = \"Sailing in Croatia between Split and Zadar is fantastic?\""
      ],
      "metadata": {
        "id": "wPZDNe4rYzKr"
      },
      "execution_count": 10,
      "outputs": []
    },
    {
      "cell_type": "code",
      "source": [
        "# Tokenize into sentences\n",
        "nltk.sent_tokenize(text)"
      ],
      "metadata": {
        "colab": {
          "base_uri": "https://localhost:8080/"
        },
        "id": "mBNPIYxmY5Vq",
        "outputId": "71389d9c-b0c1-4d22-8c05-05c86669aa20"
      },
      "execution_count": 11,
      "outputs": [
        {
          "output_type": "execute_result",
          "data": {
            "text/plain": [
              "['Sailing in Croatia between Split and Zadar is fantastic?']"
            ]
          },
          "metadata": {},
          "execution_count": 11
        }
      ]
    },
    {
      "cell_type": "markdown",
      "source": [
        "A sentence is defined when there is a '.' and an empty space after"
      ],
      "metadata": {
        "id": "i95o1yzaZGdz"
      }
    },
    {
      "cell_type": "code",
      "source": [
        "# Tokenization into words\n",
        "nltk.word_tokenize(text)"
      ],
      "metadata": {
        "colab": {
          "base_uri": "https://localhost:8080/"
        },
        "id": "bwAGgG1kZLlx",
        "outputId": "4125838b-4f74-4a2a-8493-51c7e4aacb2c"
      },
      "execution_count": 12,
      "outputs": [
        {
          "output_type": "execute_result",
          "data": {
            "text/plain": [
              "['Sailing',\n",
              " 'in',\n",
              " 'Croatia',\n",
              " 'between',\n",
              " 'Split',\n",
              " 'and',\n",
              " 'Zadar',\n",
              " 'is',\n",
              " 'fantastic',\n",
              " '?']"
            ]
          },
          "metadata": {},
          "execution_count": 12
        }
      ]
    },
    {
      "cell_type": "markdown",
      "source": [
        "# Pre-processing"
      ],
      "metadata": {
        "id": "GIN5_i6oZW1I"
      }
    },
    {
      "cell_type": "markdown",
      "source": [
        "* We don't capitalize. I would query 'croatia sailing' and not \"Croatia Sailing'\n",
        "* croatia is different than Croatia\n",
        "* We don't really add punctuation"
      ],
      "metadata": {
        "id": "elRxZ_EJZfXJ"
      }
    },
    {
      "cell_type": "code",
      "source": [
        "text.lower() # Convert text to lower case to aviod variations in capitalization"
      ],
      "metadata": {
        "colab": {
          "base_uri": "https://localhost:8080/",
          "height": 36
        },
        "id": "n2eJNRpAZ0Fp",
        "outputId": "921d685d-4317-485c-b279-6330b9423cc0"
      },
      "execution_count": 13,
      "outputs": [
        {
          "output_type": "execute_result",
          "data": {
            "text/plain": [
              "'sailing in croatia between split and zadar is fantastic?'"
            ],
            "application/vnd.google.colaboratory.intrinsic+json": {
              "type": "string"
            }
          },
          "metadata": {},
          "execution_count": 13
        }
      ]
    },
    {
      "cell_type": "code",
      "source": [
        "def preprocess(text):\n",
        "  # Lowering the capitalization\n",
        "  text_lower = text.lower()\n",
        "\n",
        "  # Tokenization into words\n",
        "  tokens = nltk.word_tokenize(text_lower)\n",
        "\n",
        "  return [word for word in tokens if word.isalnum()]"
      ],
      "metadata": {
        "id": "Omc7F6J7aHBg"
      },
      "execution_count": 14,
      "outputs": []
    },
    {
      "cell_type": "code",
      "source": [
        "# Apply the pre-processing to the documents\n",
        "preprocessed_docs = [' '.join(preprocess(doc)) for doc in documents]"
      ],
      "metadata": {
        "id": "g_h90cdqaU5U"
      },
      "execution_count": 15,
      "outputs": []
    },
    {
      "cell_type": "markdown",
      "source": [
        "# TF-IDF"
      ],
      "metadata": {
        "id": "MgPWAleiahKZ"
      }
    },
    {
      "cell_type": "markdown",
      "source": [
        "Vector Space Model"
      ],
      "metadata": {
        "id": "J3doO6zcan-k"
      }
    },
    {
      "cell_type": "code",
      "source": [
        "# Creating an instance of the TF-IDF Vectorizer\n",
        "vectorizer = TfidfVectorizer()"
      ],
      "metadata": {
        "id": "IYa4JJ5rcNHU"
      },
      "execution_count": 16,
      "outputs": []
    },
    {
      "cell_type": "code",
      "source": [
        "# Fit and transform the preprocessed docs\n",
        "tfidf_matrix = vectorizer.fit_transform(preprocessed_docs)\n",
        "print(f\"The shape of the TF-IDF matrix is {tfidf_matrix.shape}\")\n",
        "print(f\"The length of documents is {len(documents)}\")"
      ],
      "metadata": {
        "colab": {
          "base_uri": "https://localhost:8080/"
        },
        "id": "jsMy4BUkcSOI",
        "outputId": "9ca5cef4-bfe4-4fee-8cb6-68e8a365bd48"
      },
      "execution_count": 17,
      "outputs": [
        {
          "output_type": "stream",
          "name": "stdout",
          "text": [
            "The shape of the TF-IDF matrix is (100, 360)\n",
            "The length of documents is 100\n"
          ]
        }
      ]
    },
    {
      "cell_type": "code",
      "source": [
        "# Query the index\n",
        "query = \"croatia sailing\"\n",
        "query_vec = vectorizer.transform([query])\n",
        "cosine_similarity(tfidf_matrix, query_vec).flatten()"
      ],
      "metadata": {
        "colab": {
          "base_uri": "https://localhost:8080/"
        },
        "id": "4SsNgi51cUyv",
        "outputId": "395071a9-4678-49a7-ce61-3461527cbbc3"
      },
      "execution_count": 18,
      "outputs": [
        {
          "output_type": "execute_result",
          "data": {
            "text/plain": [
              "array([0.24200283, 0.13063328, 0.28789613, 0.        , 0.13091565,\n",
              "       0.12744614, 0.11470109, 0.26443714, 0.1200554 , 0.10132357,\n",
              "       0.        , 0.        , 0.        , 0.11117943, 0.        ,\n",
              "       0.        , 0.11093168, 0.        , 0.30524835, 0.10791902,\n",
              "       0.11541319, 0.        , 0.        , 0.12321974, 0.09688848,\n",
              "       0.        , 0.        , 0.        , 0.        , 0.12483007,\n",
              "       0.14262231, 0.10472003, 0.22863442, 0.        , 0.        ,\n",
              "       0.        , 0.13059847, 0.        , 0.        , 0.1172783 ,\n",
              "       0.        , 0.24809611, 0.09509067, 0.        , 0.11325454,\n",
              "       0.12163093, 0.1050687 , 0.15612242, 0.20876142, 0.16323255,\n",
              "       0.10501606, 0.25298311, 0.        , 0.11740617, 0.        ,\n",
              "       0.        , 0.34633262, 0.22806771, 0.11765747, 0.        ,\n",
              "       0.        , 0.        , 0.        , 0.        , 0.        ,\n",
              "       0.09094918, 0.11309818, 0.        , 0.12986737, 0.        ,\n",
              "       0.11295693, 0.        , 0.10234293, 0.13411726, 0.        ,\n",
              "       0.11227415, 0.12125818, 0.10208762, 0.13088904, 0.26976637,\n",
              "       0.        , 0.11454866, 0.15024217, 0.        , 0.        ,\n",
              "       0.22376085, 0.28947714, 0.22705354, 0.        , 0.        ,\n",
              "       0.11981942, 0.        , 0.        , 0.21291946, 0.        ,\n",
              "       0.        , 0.13147867, 0.09577011, 0.        , 0.        ])"
            ]
          },
          "metadata": {},
          "execution_count": 18
        }
      ]
    },
    {
      "cell_type": "code",
      "source": [
        "# Sort the documents by similarity to the query\n",
        "similarities = cosine_similarity(tfidf_matrix, query_vec).flatten()\n",
        "sorted_similarities = list(enumerate(similarities))\n",
        "# Convert numpy float64 to standard python float\n",
        "sorted_similarities = [(i, float(sim)) for i, sim in sorted_similarities]\n",
        "sorted(sorted_similarities, key=lambda x: x[1], reverse=True)"
      ],
      "metadata": {
        "colab": {
          "base_uri": "https://localhost:8080/"
        },
        "id": "LTgMrbEvcjxo",
        "outputId": "ea13b38e-77fe-42e3-a66f-d77c85530a27"
      },
      "execution_count": 19,
      "outputs": [
        {
          "output_type": "execute_result",
          "data": {
            "text/plain": [
              "[(56, 0.3463326177734656),\n",
              " (18, 0.30524834901003683),\n",
              " (86, 0.289477144161549),\n",
              " (2, 0.2878961250809324),\n",
              " (79, 0.2697663666536758),\n",
              " (7, 0.26443714198277574),\n",
              " (51, 0.2529831093224971),\n",
              " (41, 0.24809611448223312),\n",
              " (0, 0.24200282597100126),\n",
              " (32, 0.22863442162734365),\n",
              " (57, 0.22806770911560081),\n",
              " (87, 0.22705354408637923),\n",
              " (85, 0.22376084862387863),\n",
              " (93, 0.21291946178423374),\n",
              " (48, 0.20876142357900254),\n",
              " (49, 0.1632325463490037),\n",
              " (47, 0.1561224238877196),\n",
              " (82, 0.15024216891927034),\n",
              " (30, 0.14262231277766355),\n",
              " (73, 0.1341172613847461),\n",
              " (96, 0.13147866648060116),\n",
              " (4, 0.13091564915907272),\n",
              " (78, 0.13088904245703745),\n",
              " (1, 0.13063327992289878),\n",
              " (36, 0.13059846989505045),\n",
              " (68, 0.12986737471906057),\n",
              " (5, 0.12744613919344638),\n",
              " (29, 0.12483007236047007),\n",
              " (23, 0.12321973759820973),\n",
              " (45, 0.12163092541462699),\n",
              " (76, 0.12125817645167508),\n",
              " (8, 0.12005539867434271),\n",
              " (90, 0.11981941859362374),\n",
              " (58, 0.11765746750500053),\n",
              " (53, 0.11740616543771365),\n",
              " (39, 0.11727830167035747),\n",
              " (20, 0.11541319037346488),\n",
              " (6, 0.11470108730952823),\n",
              " (81, 0.11454866136363852),\n",
              " (44, 0.1132545369505073),\n",
              " (66, 0.11309818193526716),\n",
              " (70, 0.1129569282896039),\n",
              " (75, 0.11227415246287376),\n",
              " (13, 0.11117942940045264),\n",
              " (16, 0.1109316825810146),\n",
              " (19, 0.10791901765546799),\n",
              " (46, 0.1050687012310533),\n",
              " (50, 0.10501606213537165),\n",
              " (31, 0.10472003325540194),\n",
              " (72, 0.10234293486728112),\n",
              " (77, 0.10208762434223217),\n",
              " (9, 0.10132357482102752),\n",
              " (24, 0.09688848166053413),\n",
              " (97, 0.09577011177834506),\n",
              " (42, 0.09509066829897503),\n",
              " (65, 0.09094918172306897),\n",
              " (3, 0.0),\n",
              " (10, 0.0),\n",
              " (11, 0.0),\n",
              " (12, 0.0),\n",
              " (14, 0.0),\n",
              " (15, 0.0),\n",
              " (17, 0.0),\n",
              " (21, 0.0),\n",
              " (22, 0.0),\n",
              " (25, 0.0),\n",
              " (26, 0.0),\n",
              " (27, 0.0),\n",
              " (28, 0.0),\n",
              " (33, 0.0),\n",
              " (34, 0.0),\n",
              " (35, 0.0),\n",
              " (37, 0.0),\n",
              " (38, 0.0),\n",
              " (40, 0.0),\n",
              " (43, 0.0),\n",
              " (52, 0.0),\n",
              " (54, 0.0),\n",
              " (55, 0.0),\n",
              " (59, 0.0),\n",
              " (60, 0.0),\n",
              " (61, 0.0),\n",
              " (62, 0.0),\n",
              " (63, 0.0),\n",
              " (64, 0.0),\n",
              " (67, 0.0),\n",
              " (69, 0.0),\n",
              " (71, 0.0),\n",
              " (74, 0.0),\n",
              " (80, 0.0),\n",
              " (83, 0.0),\n",
              " (84, 0.0),\n",
              " (88, 0.0),\n",
              " (89, 0.0),\n",
              " (91, 0.0),\n",
              " (92, 0.0),\n",
              " (94, 0.0),\n",
              " (95, 0.0),\n",
              " (98, 0.0),\n",
              " (99, 0.0)]"
            ]
          },
          "metadata": {},
          "execution_count": 19
        }
      ]
    },
    {
      "cell_type": "code",
      "source": [
        "# Build a function to search with TF-IDF\n",
        "def search_tfidf(query, vectorizer, tfidf_matrix):\n",
        "  # Vectorizing the query\n",
        "  query_vec = vectorizer.transform([query])\n",
        "\n",
        "  # Compute the Cosine similarity\n",
        "  similarities = cosine_similarity(tfidf_matrix, query_vec).flatten()\n",
        "\n",
        "  # Pair each document index with its similarity score\n",
        "  sorted_similarities = list(enumerate(similarities))\n",
        "\n",
        "  # Sort the documents by similarity score\n",
        "  results = sorted(sorted_similarities, key=lambda x: x[1], reverse=True)\n",
        "\n",
        "  return results"
      ],
      "metadata": {
        "id": "RLmonsX9da1W"
      },
      "execution_count": 20,
      "outputs": []
    },
    {
      "cell_type": "code",
      "source": [
        "# Apply the function to the query\n",
        "search_similarities = search_tfidf(query, vectorizer, tfidf_matrix)\n",
        "\n",
        "# Print out the top 10 documents by similariry score\n",
        "print(f\"Top 10 documents by similarity score for query {query}:\")\n",
        "for doc_index, score in search_similarities[:10]:\n",
        "  print(f\"Document {doc_index + 1}: {documents[doc_index]}\")"
      ],
      "metadata": {
        "colab": {
          "base_uri": "https://localhost:8080/"
        },
        "id": "aNe_GWOQdfTc",
        "outputId": "21c00697-e93c-4c81-a18f-d5b35105bc39"
      },
      "execution_count": 21,
      "outputs": [
        {
          "output_type": "stream",
          "name": "stdout",
          "text": [
            "Top 10 documents by similarity score for query croatia sailing:\n",
            "Document 57: Croatia has beautiful islands perfect for sailing.\n",
            "Document 19: The Dalmatian Coast is a famous region for sailing in Croatia.\n",
            "Document 87: The Kornati Islands National Park is a popular sailing destination in Croatia.\n",
            "Document 3: Sailing in Croatia offers stunning views of the Adriatic Sea.\n",
            "Document 80: The best sailing routes in Croatia include Dubrovnik and Split.\n",
            "Document 8: The island of Cres is one of the largest in Croatia and a great destination for sailing.\n",
            "Document 52: Sailing in Croatia is best enjoyed during the summer months.\n",
            "Document 42: The city of Rovinj is a charming starting point for a sailing trip in Croatia.\n",
            "Document 1: Sailing in Croatia often includes visiting UNESCO World Heritage sites.\n",
            "Document 33: Sailing in Croatia often involves stopping at picturesque fishing villages.\n"
          ]
        }
      ]
    },
    {
      "cell_type": "code",
      "source": [
        "#!pip install whoosh -q"
      ],
      "metadata": {
        "id": "bTJuINuddlsz"
      },
      "execution_count": 25,
      "outputs": []
    },
    {
      "cell_type": "code",
      "source": [
        "# Import libraries\n",
        "import os\n",
        "import shutil\n",
        "from whoosh.index import create_in\n",
        "from whoosh.fields import *\n",
        "from whoosh.qparser import QueryParser"
      ],
      "metadata": {
        "id": "tA0_piQfJc3c"
      },
      "execution_count": 23,
      "outputs": []
    },
    {
      "cell_type": "code",
      "source": [
        "# Preprocessing Text Part 2\n",
        "def preprocess2(text):\n",
        "  # Lowering the captialization\n",
        "  text_lower = text.lower()\n",
        "\n",
        "  # Tokenization into words\n",
        "  tokens = nltk.word_tokenize(text_lower)\n",
        "\n",
        "  # Remove stop words\n",
        "  stop_words = set(nltk.corpus.stopwords.words('english'))\n",
        "  filtered_tokens = [word for word in tokens if word not in stop_words]\n",
        "\n",
        "  return filtered_tokens\n",
        "\n",
        "#Apply the function and test it\n",
        "print(text)\n",
        "preprocess2(text)"
      ],
      "metadata": {
        "colab": {
          "base_uri": "https://localhost:8080/"
        },
        "id": "ZJGa8LnQKF3v",
        "outputId": "742d42da-e4c2-4ef8-e2de-7c2c2029d044"
      },
      "execution_count": 24,
      "outputs": [
        {
          "output_type": "stream",
          "name": "stdout",
          "text": [
            "Sailing in Croatia between Split and Zadar is fantastic?\n"
          ]
        },
        {
          "output_type": "execute_result",
          "data": {
            "text/plain": [
              "['sailing', 'croatia', 'split', 'zadar', 'fantastic', '?']"
            ]
          },
          "metadata": {},
          "execution_count": 24
        }
      ]
    }
  ]
}